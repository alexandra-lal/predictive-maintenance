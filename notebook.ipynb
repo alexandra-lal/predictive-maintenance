{
 "cells": [
  {
   "cell_type": "code",
   "execution_count": 8,
   "metadata": {},
   "outputs": [
    {
     "data": {
      "text/plain": [
       "<bound method NDFrame.head of         UDI Product ID Type  Air temperature [K]  Process temperature [K]  \\\n",
       "0         1     M14860    M                298.1                    308.6   \n",
       "1         2     L47181    L                298.2                    308.7   \n",
       "2         3     L47182    L                298.1                    308.5   \n",
       "3         4     L47183    L                298.2                    308.6   \n",
       "4         5     L47184    L                298.2                    308.7   \n",
       "...     ...        ...  ...                  ...                      ...   \n",
       "9995   9996     M24855    M                298.8                    308.4   \n",
       "9996   9997     H39410    H                298.9                    308.4   \n",
       "9997   9998     M24857    M                299.0                    308.6   \n",
       "9998   9999     H39412    H                299.0                    308.7   \n",
       "9999  10000     M24859    M                299.0                    308.7   \n",
       "\n",
       "      Rotational speed [rpm]  Torque [Nm]  Tool wear [min]  Machine failure  \\\n",
       "0                       1551         42.8                0                0   \n",
       "1                       1408         46.3                3                0   \n",
       "2                       1498         49.4                5                0   \n",
       "3                       1433         39.5                7                0   \n",
       "4                       1408         40.0                9                0   \n",
       "...                      ...          ...              ...              ...   \n",
       "9995                    1604         29.5               14                0   \n",
       "9996                    1632         31.8               17                0   \n",
       "9997                    1645         33.4               22                0   \n",
       "9998                    1408         48.5               25                0   \n",
       "9999                    1500         40.2               30                0   \n",
       "\n",
       "      TWF  HDF  PWF  OSF  RNF  \n",
       "0       0    0    0    0    0  \n",
       "1       0    0    0    0    0  \n",
       "2       0    0    0    0    0  \n",
       "3       0    0    0    0    0  \n",
       "4       0    0    0    0    0  \n",
       "...   ...  ...  ...  ...  ...  \n",
       "9995    0    0    0    0    0  \n",
       "9996    0    0    0    0    0  \n",
       "9997    0    0    0    0    0  \n",
       "9998    0    0    0    0    0  \n",
       "9999    0    0    0    0    0  \n",
       "\n",
       "[10000 rows x 14 columns]>"
      ]
     },
     "execution_count": 8,
     "metadata": {},
     "output_type": "execute_result"
    }
   ],
   "source": [
    "import pandas as pd\n",
    "\n",
    "data = pd.read_csv(\"ai4i2020.csv\")\n",
    "data.head"
   ]
  },
  {
   "cell_type": "code",
   "execution_count": 9,
   "metadata": {},
   "outputs": [
    {
     "data": {
      "text/html": [
       "<div>\n",
       "<style scoped>\n",
       "    .dataframe tbody tr th:only-of-type {\n",
       "        vertical-align: middle;\n",
       "    }\n",
       "\n",
       "    .dataframe tbody tr th {\n",
       "        vertical-align: top;\n",
       "    }\n",
       "\n",
       "    .dataframe thead th {\n",
       "        text-align: right;\n",
       "    }\n",
       "</style>\n",
       "<table border=\"1\" class=\"dataframe\">\n",
       "  <thead>\n",
       "    <tr style=\"text-align: right;\">\n",
       "      <th></th>\n",
       "      <th>udi</th>\n",
       "      <th>productid</th>\n",
       "      <th>type</th>\n",
       "      <th>airtemperaturek</th>\n",
       "      <th>processtemperaturek</th>\n",
       "      <th>rotationalspeedrpm</th>\n",
       "      <th>torquenm</th>\n",
       "      <th>toolwearmin</th>\n",
       "      <th>machinefailure</th>\n",
       "      <th>twf</th>\n",
       "      <th>hdf</th>\n",
       "      <th>pwf</th>\n",
       "      <th>osf</th>\n",
       "      <th>rnf</th>\n",
       "    </tr>\n",
       "  </thead>\n",
       "  <tbody>\n",
       "    <tr>\n",
       "      <th>0</th>\n",
       "      <td>1</td>\n",
       "      <td>M14860</td>\n",
       "      <td>M</td>\n",
       "      <td>298.1</td>\n",
       "      <td>308.6</td>\n",
       "      <td>1551</td>\n",
       "      <td>42.8</td>\n",
       "      <td>0</td>\n",
       "      <td>0</td>\n",
       "      <td>0</td>\n",
       "      <td>0</td>\n",
       "      <td>0</td>\n",
       "      <td>0</td>\n",
       "      <td>0</td>\n",
       "    </tr>\n",
       "    <tr>\n",
       "      <th>1</th>\n",
       "      <td>2</td>\n",
       "      <td>L47181</td>\n",
       "      <td>L</td>\n",
       "      <td>298.2</td>\n",
       "      <td>308.7</td>\n",
       "      <td>1408</td>\n",
       "      <td>46.3</td>\n",
       "      <td>3</td>\n",
       "      <td>0</td>\n",
       "      <td>0</td>\n",
       "      <td>0</td>\n",
       "      <td>0</td>\n",
       "      <td>0</td>\n",
       "      <td>0</td>\n",
       "    </tr>\n",
       "    <tr>\n",
       "      <th>2</th>\n",
       "      <td>3</td>\n",
       "      <td>L47182</td>\n",
       "      <td>L</td>\n",
       "      <td>298.1</td>\n",
       "      <td>308.5</td>\n",
       "      <td>1498</td>\n",
       "      <td>49.4</td>\n",
       "      <td>5</td>\n",
       "      <td>0</td>\n",
       "      <td>0</td>\n",
       "      <td>0</td>\n",
       "      <td>0</td>\n",
       "      <td>0</td>\n",
       "      <td>0</td>\n",
       "    </tr>\n",
       "    <tr>\n",
       "      <th>3</th>\n",
       "      <td>4</td>\n",
       "      <td>L47183</td>\n",
       "      <td>L</td>\n",
       "      <td>298.2</td>\n",
       "      <td>308.6</td>\n",
       "      <td>1433</td>\n",
       "      <td>39.5</td>\n",
       "      <td>7</td>\n",
       "      <td>0</td>\n",
       "      <td>0</td>\n",
       "      <td>0</td>\n",
       "      <td>0</td>\n",
       "      <td>0</td>\n",
       "      <td>0</td>\n",
       "    </tr>\n",
       "    <tr>\n",
       "      <th>4</th>\n",
       "      <td>5</td>\n",
       "      <td>L47184</td>\n",
       "      <td>L</td>\n",
       "      <td>298.2</td>\n",
       "      <td>308.7</td>\n",
       "      <td>1408</td>\n",
       "      <td>40.0</td>\n",
       "      <td>9</td>\n",
       "      <td>0</td>\n",
       "      <td>0</td>\n",
       "      <td>0</td>\n",
       "      <td>0</td>\n",
       "      <td>0</td>\n",
       "      <td>0</td>\n",
       "    </tr>\n",
       "  </tbody>\n",
       "</table>\n",
       "</div>"
      ],
      "text/plain": [
       "   udi productid type  airtemperaturek  processtemperaturek  \\\n",
       "0    1    M14860    M            298.1                308.6   \n",
       "1    2    L47181    L            298.2                308.7   \n",
       "2    3    L47182    L            298.1                308.5   \n",
       "3    4    L47183    L            298.2                308.6   \n",
       "4    5    L47184    L            298.2                308.7   \n",
       "\n",
       "   rotationalspeedrpm  torquenm  toolwearmin  machinefailure  twf  hdf  pwf  \\\n",
       "0                1551      42.8            0               0    0    0    0   \n",
       "1                1408      46.3            3               0    0    0    0   \n",
       "2                1498      49.4            5               0    0    0    0   \n",
       "3                1433      39.5            7               0    0    0    0   \n",
       "4                1408      40.0            9               0    0    0    0   \n",
       "\n",
       "   osf  rnf  \n",
       "0    0    0  \n",
       "1    0    0  \n",
       "2    0    0  \n",
       "3    0    0  \n",
       "4    0    0  "
      ]
     },
     "execution_count": 9,
     "metadata": {},
     "output_type": "execute_result"
    }
   ],
   "source": [
    "data.columns = data.columns.str.strip().str.lower().str.replace('[^a-z0-9_]', '', regex=True)\n",
    "\n",
    "data.head()"
   ]
  },
  {
   "cell_type": "code",
   "execution_count": 10,
   "metadata": {},
   "outputs": [
    {
     "data": {
      "text/html": [
       "<div>\n",
       "<style scoped>\n",
       "    .dataframe tbody tr th:only-of-type {\n",
       "        vertical-align: middle;\n",
       "    }\n",
       "\n",
       "    .dataframe tbody tr th {\n",
       "        vertical-align: top;\n",
       "    }\n",
       "\n",
       "    .dataframe thead th {\n",
       "        text-align: right;\n",
       "    }\n",
       "</style>\n",
       "<table border=\"1\" class=\"dataframe\">\n",
       "  <thead>\n",
       "    <tr style=\"text-align: right;\">\n",
       "      <th></th>\n",
       "      <th>type</th>\n",
       "    </tr>\n",
       "  </thead>\n",
       "  <tbody>\n",
       "    <tr>\n",
       "      <th>0</th>\n",
       "      <td>2</td>\n",
       "    </tr>\n",
       "    <tr>\n",
       "      <th>1</th>\n",
       "      <td>1</td>\n",
       "    </tr>\n",
       "    <tr>\n",
       "      <th>2</th>\n",
       "      <td>1</td>\n",
       "    </tr>\n",
       "    <tr>\n",
       "      <th>3</th>\n",
       "      <td>1</td>\n",
       "    </tr>\n",
       "    <tr>\n",
       "      <th>4</th>\n",
       "      <td>1</td>\n",
       "    </tr>\n",
       "    <tr>\n",
       "      <th>5</th>\n",
       "      <td>2</td>\n",
       "    </tr>\n",
       "    <tr>\n",
       "      <th>6</th>\n",
       "      <td>1</td>\n",
       "    </tr>\n",
       "    <tr>\n",
       "      <th>7</th>\n",
       "      <td>1</td>\n",
       "    </tr>\n",
       "    <tr>\n",
       "      <th>8</th>\n",
       "      <td>2</td>\n",
       "    </tr>\n",
       "    <tr>\n",
       "      <th>9</th>\n",
       "      <td>2</td>\n",
       "    </tr>\n",
       "  </tbody>\n",
       "</table>\n",
       "</div>"
      ],
      "text/plain": [
       "   type\n",
       "0     2\n",
       "1     1\n",
       "2     1\n",
       "3     1\n",
       "4     1\n",
       "5     2\n",
       "6     1\n",
       "7     1\n",
       "8     2\n",
       "9     2"
      ]
     },
     "execution_count": 10,
     "metadata": {},
     "output_type": "execute_result"
    }
   ],
   "source": [
    "from sklearn.preprocessing import LabelEncoder\n",
    "\n",
    "le = LabelEncoder()\n",
    "data['type'] = le.fit_transform(data['type'])\n",
    "\n",
    "data[['type']].head(10)"
   ]
  },
  {
   "cell_type": "code",
   "execution_count": 11,
   "metadata": {},
   "outputs": [
    {
     "name": "stdout",
     "output_type": "stream",
     "text": [
      "X shape: (10000, 6)\n",
      "y shape: (10000,)\n"
     ]
    }
   ],
   "source": [
    "X = data[['type', 'airtemperaturek', 'processtemperaturek', 'rotationalspeedrpm', 'torquenm', 'toolwearmin']]\n",
    "\n",
    "y = data['machinefailure']\n",
    "\n",
    "print(\"X shape:\", X.shape)\n",
    "print(\"y shape:\", y.shape)"
   ]
  },
  {
   "cell_type": "code",
   "execution_count": 12,
   "metadata": {},
   "outputs": [
    {
     "name": "stdout",
     "output_type": "stream",
     "text": [
      "Training test size: (8000, 6)\n",
      "Test set size: (2000, 6)\n"
     ]
    }
   ],
   "source": [
    "from sklearn.model_selection import train_test_split\n",
    "\n",
    "X_train, X_test, y_train, y_test = train_test_split(X, y, test_size=0.2, random_state=42)\n",
    "\n",
    "print(\"Training test size:\", X_train.shape)\n",
    "print(\"Test set size:\", X_test.shape)"
   ]
  },
  {
   "cell_type": "code",
   "execution_count": 13,
   "metadata": {},
   "outputs": [
    {
     "name": "stdout",
     "output_type": "stream",
     "text": [
      "Model is trained successfully.\n"
     ]
    }
   ],
   "source": [
    "from sklearn.ensemble import RandomForestClassifier\n",
    "\n",
    "rf = RandomForestClassifier(n_estimators=100, random_state=42)\n",
    "\n",
    "rf.fit(X_train, y_train)\n",
    "\n",
    "print(\"Model is trained successfully.\")"
   ]
  },
  {
   "cell_type": "code",
   "execution_count": 15,
   "metadata": {},
   "outputs": [
    {
     "name": "stdout",
     "output_type": "stream",
     "text": [
      "Model Accuracy: 98.40%\n",
      "\n",
      "Classification Report:\n",
      "              precision    recall  f1-score   support\n",
      "\n",
      "           0       0.99      1.00      0.99      1939\n",
      "           1       0.84      0.59      0.69        61\n",
      "\n",
      "    accuracy                           0.98      2000\n",
      "   macro avg       0.91      0.79      0.84      2000\n",
      "weighted avg       0.98      0.98      0.98      2000\n",
      "\n",
      "Confusion Matrix:\n",
      "[[1932    7]\n",
      " [  25   36]]\n"
     ]
    }
   ],
   "source": [
    "from sklearn.metrics import accuracy_score, classification_report, confusion_matrix\n",
    "\n",
    "y_pred = rf.predict(X_test)\n",
    "\n",
    "accuracy = accuracy_score(y_test, y_pred)\n",
    "print(f\"Model Accuracy: {accuracy * 100:.2f}%\\n\")\n",
    "\n",
    "print(\"Classification Report:\")\n",
    "print(classification_report(y_test, y_pred))\n",
    "\n",
    "print(\"Confusion Matrix:\")\n",
    "print(confusion_matrix(y_test, y_pred))"
   ]
  },
  {
   "cell_type": "code",
   "execution_count": 17,
   "metadata": {},
   "outputs": [
    {
     "data": {
      "image/png": "[encoded data removed]",
      "text/plain": [
       "<Figure size 1000x600 with 1 Axes>"
      ]
     },
     "metadata": {},
     "output_type": "display_data"
    }
   ],
   "source": [
    "import matplotlib.pyplot as plt\n",
    "import seaborn as sns\n",
    "\n",
    "importances = rf.feature_importances_\n",
    "features = X.columns\n",
    "\n",
    "sorted_idx = importances.argsort()\n",
    "\n",
    "plt.figure(figsize=(10,6))\n",
    "sns.barplot(x=importances[sorted_idx], y=features[sorted_idx])\n",
    "plt.title(\"Feature Importance in Predictive Maintenance Model\")\n",
    "plt.xlabel(\"Importance\")\n",
    "plt.ylabel(\"Feature\")\n",
    "plt.show()"
   ]
  }
 ],
 "metadata": {
  "kernelspec": {
   "display_name": "venv",
   "language": "python",
   "name": "python3"
  },
  "language_info": {
   "codemirror_mode": {
    "name": "ipython",
    "version": 3
   },
   "file_extension": ".py",
   "mimetype": "text/x-python",
   "name": "python",
   "nbconvert_exporter": "python",
   "pygments_lexer": "ipython3",
   "version": "3.10.11"
  },
  "orig_nbformat": 4
 },
 "nbformat": 4,
 "nbformat_minor": 2
}
